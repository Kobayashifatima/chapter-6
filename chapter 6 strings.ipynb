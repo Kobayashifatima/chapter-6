{
 "cells": [
  {
   "cell_type": "markdown",
   "id": "c37330e2",
   "metadata": {},
   "source": [
    "# chapter 6"
   ]
  },
  {
   "cell_type": "markdown",
   "id": "ae3c6f66",
   "metadata": {},
   "source": [
    "strings"
   ]
  },
  {
   "cell_type": "code",
   "execution_count": 2,
   "id": "bb7a74ff",
   "metadata": {},
   "outputs": [
    {
     "name": "stdout",
     "output_type": "stream",
     "text": [
      "Enter your name: Kobayashi\n",
      "Hello, Kobayashi! Welcome to Python.\n"
     ]
    }
   ],
   "source": [
    "# Prompt the user to enter their name\n",
    "name = input(\"Enter your name: \")\n",
    "\n",
    "# Create a greeting message using the entered name\n",
    "greeting = f\"Hello, {name}! Welcome to Python.\"\n",
    "\n",
    "# Display the greeting message\n",
    "print(greeting)\n"
   ]
  },
  {
   "cell_type": "code",
   "execution_count": 4,
   "id": "9135c0fe",
   "metadata": {},
   "outputs": [
    {
     "name": "stdout",
     "output_type": "stream",
     "text": [
      "Enter a string: banana\n",
      "The length of the string is: 6\n"
     ]
    }
   ],
   "source": [
    "# Input a string\n",
    "input_string = input(\"Enter a string: \")\n",
    "\n",
    "# Calculate the length of the input string using len() function\n",
    "string_length = len(input_string)\n",
    "\n",
    "# Display the length of the string\n",
    "print(f\"The length of the string is: {string_length}\")\n"
   ]
  },
  {
   "cell_type": "code",
   "execution_count": 5,
   "id": "c581711a",
   "metadata": {},
   "outputs": [
    {
     "name": "stdout",
     "output_type": "stream",
     "text": [
      "Enter a string: FATIMA\n",
      "F\n",
      "A\n",
      "T\n",
      "I\n",
      "M\n",
      "A\n"
     ]
    }
   ],
   "source": [
    "# Input a string\n",
    "input_string = input(\"Enter a string: \")\n",
    "\n",
    "# Loop through each character in the string\n",
    "for character in input_string:\n",
    "    print(character)\n"
   ]
  },
  {
   "cell_type": "code",
   "execution_count": 6,
   "id": "538f315b",
   "metadata": {},
   "outputs": [
    {
     "name": "stdout",
     "output_type": "stream",
     "text": [
      "Enter a string: KOBAYASHI FATIMA\n",
      "Enter a character to count: A\n",
      "The character 'A' appears 4 times in the string.\n"
     ]
    }
   ],
   "source": [
    "# Input a string\n",
    "input_string = input(\"Enter a string: \")\n",
    "\n",
    "# Input a character to count\n",
    "character_to_count = input(\"Enter a character to count: \")\n",
    "\n",
    "# Initialize a count variable to keep track of the character's occurrences\n",
    "count = 0\n",
    "\n",
    "# Loop through each character in the string\n",
    "for character in input_string:\n",
    "    if character == character_to_count:\n",
    "        count += 1\n",
    "\n",
    "# Display the count of the specified character\n",
    "print(f\"The character '{character_to_count}' appears {count} times in the string.\")\n"
   ]
  },
  {
   "cell_type": "code",
   "execution_count": 7,
   "id": "3b7f681e",
   "metadata": {},
   "outputs": [
    {
     "name": "stdout",
     "output_type": "stream",
     "text": [
      "Enter a string: hello world\n",
      "Enter the start index: 2\n",
      "Enter the end index: 7\n",
      "Sliced string: llo w\n"
     ]
    }
   ],
   "source": [
    "# Input a string\n",
    "input_string = input(\"Enter a string: \")\n",
    "\n",
    "# Input the start and end indices for slicing\n",
    "start_index = int(input(\"Enter the start index: \"))\n",
    "end_index = int(input(\"Enter the end index: \"))\n",
    "\n",
    "# Slice the string using the specified indices\n",
    "sliced_string = input_string[start_index:end_index]\n",
    "\n",
    "# Display the sliced portion of the string\n",
    "print(f\"Sliced string: {sliced_string}\")\n"
   ]
  },
  {
   "cell_type": "code",
   "execution_count": 8,
   "id": "f9e837f8",
   "metadata": {},
   "outputs": [
    {
     "name": "stdout",
     "output_type": "stream",
     "text": [
      "Enter the first string: KOBAYASHI\n",
      "Enter the second string: FATIMA\n",
      "Concatenated string: KOBAYASHI FATIMA\n"
     ]
    }
   ],
   "source": [
    "# Input two strings\n",
    "string1 = input(\"Enter the first string: \")\n",
    "string2 = input(\"Enter the second string: \")\n",
    "\n",
    "# Concatenate the two strings\n",
    "concatenated_string = string1 + \" \" + string2\n",
    "\n",
    "# Display the concatenated string\n",
    "print(f\"Concatenated string: {concatenated_string}\")\n"
   ]
  },
  {
   "cell_type": "code",
   "execution_count": 9,
   "id": "4c013e0d",
   "metadata": {},
   "outputs": [
    {
     "name": "stdout",
     "output_type": "stream",
     "text": [
      "Enter a string: kobayashi fatima rehman \n",
      "Enter a substring to check for: fatima\n",
      "'fatima' is found in the string.\n"
     ]
    }
   ],
   "source": [
    "# Input a string\n",
    "input_string = input(\"Enter a string: \")\n",
    "\n",
    "# Input a substring to check for\n",
    "substring = input(\"Enter a substring to check for: \")\n",
    "\n",
    "# Check if the substring is present in the input string\n",
    "if substring in input_string:\n",
    "    print(f\"'{substring}' is found in the string.\")\n",
    "else:\n",
    "    print(f\"'{substring}' is not found in the string.\")\n"
   ]
  },
  {
   "cell_type": "code",
   "execution_count": 10,
   "id": "e5a03133",
   "metadata": {},
   "outputs": [
    {
     "name": "stdout",
     "output_type": "stream",
     "text": [
      "Enter the first string: this is me kobayashi fatima\n",
      "Enter the second string: yes still me fatima rehman\n",
      "The two strings are not equal.\n"
     ]
    }
   ],
   "source": [
    "# Input two strings\n",
    "string1 = input(\"Enter the first string: \")\n",
    "string2 = input(\"Enter the second string: \")\n",
    "\n",
    "# Compare the two strings for equality\n",
    "if string1 == string2:\n",
    "    print(\"The two strings are equal.\")\n",
    "else:\n",
    "    print(\"The two strings are not equal.\")\n"
   ]
  },
  {
   "cell_type": "code",
   "execution_count": 11,
   "id": "f0ee2358",
   "metadata": {},
   "outputs": [
    {
     "name": "stdout",
     "output_type": "stream",
     "text": [
      "Enter a string: fatima\n",
      "Enter a substring to search for: ma\n",
      "'ma' was found at index 4 in the string.\n"
     ]
    }
   ],
   "source": [
    "# Input a string\n",
    "input_string = input(\"Enter a string: \")\n",
    "\n",
    "# Input a substring to search for\n",
    "substring = input(\"Enter a substring to search for: \")\n",
    "\n",
    "# Use the find() method to search for the substring in the input string\n",
    "index = input_string.find(substring)\n",
    "\n",
    "# Check if the substring was found and determine its position\n",
    "if index != -1:\n",
    "    print(f\"'{substring}' was found at index {index} in the string.\")\n",
    "else:\n",
    "    print(f\"'{substring}' was not found in the string.\")\n"
   ]
  },
  {
   "cell_type": "code",
   "execution_count": 15,
   "id": "222d20b2",
   "metadata": {},
   "outputs": [
    {
     "name": "stdout",
     "output_type": "stream",
     "text": [
      "Text with names replaced:\n",
      "\n",
      "Hello, here are some email addresses:\n",
      "Rehman@company.com\n",
      "Rehman@company.com\n",
      "Rehman@company.com\n",
      "\n"
     ]
    }
   ],
   "source": [
    "import re\n",
    "\n",
    "# Input a text containing email addresses\n",
    "text = \"\"\"\n",
    "Hello, here are some email addresses:\n",
    "john.doe@example.com\n",
    "jane.smith@gmail.com\n",
    "contact@company.com\n",
    "\"\"\"\n",
    "\n",
    "# Define a regular expression pattern to match email addresses\n",
    "email_pattern = r'\\b[A-Za-z0-9._%+-]+@[A-Za-z0-9.-]+\\.[A-Z|a-z]{2,7}\\b'\n",
    "\n",
    "# Use the re.sub() function to replace names in email addresses\n",
    "text_with_names_replaced = re.sub(email_pattern, 'Kobayashi@example.com', text)\n",
    "text_with_names_replaced = re.sub(email_pattern, 'Fatima@gmail.com', text_with_names_replaced)\n",
    "text_with_names_replaced = re.sub(email_pattern, 'Rehman@company.com', text_with_names_replaced)\n",
    "\n",
    "# Display the text with names replaced\n",
    "print(\"Text with names replaced:\")\n",
    "print(text_with_names_replaced)\n"
   ]
  },
  {
   "cell_type": "code",
   "execution_count": null,
   "id": "eaed7dbb",
   "metadata": {},
   "outputs": [],
   "source": []
  }
 ],
 "metadata": {
  "kernelspec": {
   "display_name": "Python 3 (ipykernel)",
   "language": "python",
   "name": "python3"
  },
  "language_info": {
   "codemirror_mode": {
    "name": "ipython",
    "version": 3
   },
   "file_extension": ".py",
   "mimetype": "text/x-python",
   "name": "python",
   "nbconvert_exporter": "python",
   "pygments_lexer": "ipython3",
   "version": "3.11.4"
  }
 },
 "nbformat": 4,
 "nbformat_minor": 5
}
